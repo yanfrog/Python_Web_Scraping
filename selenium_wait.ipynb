{
 "cells": [
  {
   "cell_type": "code",
   "execution_count": 1,
   "id": "1dcc1503-51dc-481c-a527-1f6642d58c07",
   "metadata": {},
   "outputs": [],
   "source": [
    "# 匯入套件\n",
    "from selenium import webdriver\n",
    "from selenium.webdriver.chrome.service import Service\n",
    "from webdriver_manager.chrome import ChromeDriverManager\n",
    "from selenium.common.exceptions import TimeoutException, NoSuchElementException\n",
    "from selenium.webdriver.support.ui import WebDriverWait\n",
    "from selenium.webdriver.support import expected_conditions as EC\n",
    "from selenium.webdriver.common.by import By\n",
    "from time import sleep"
   ]
  },
  {
   "cell_type": "code",
   "execution_count": 3,
   "id": "f14f6dc7-c33c-4b97-9bcb-e8a0dbaa3c96",
   "metadata": {},
   "outputs": [
    {
     "name": "stdout",
     "output_type": "stream",
     "text": [
      "https://tw.yahoo.com/\n"
     ]
    }
   ],
   "source": [
    "# (Optional) 開啟用於自動控制的瀏覽器 (自動取得 Chrome 的 WebDriver)\n",
    "driver = webdriver.Chrome(service = Service(ChromeDriverManager().install()))\n",
    "\n",
    "try:\n",
    "    driver.get('https://tw.yahoo.com')\n",
    "    sleep(3)\n",
    "    print(driver.current_url)\n",
    "except:\n",
    "    print('程式出錯')\n",
    "finally:\n",
    "    driver.quit()"
   ]
  },
  {
   "cell_type": "markdown",
   "id": "53b40725-1bba-4498-bdc9-2f6e64b3575a",
   "metadata": {},
   "source": [
    "# Implicit Wait 隱性等待"
   ]
  },
  {
   "cell_type": "code",
   "execution_count": 11,
   "id": "3eec65a6-9bd2-4421-89f0-70167ea39956",
   "metadata": {},
   "outputs": [
    {
     "name": "stdout",
     "output_type": "stream",
     "text": [
      "Not Found\n"
     ]
    }
   ],
   "source": [
    "driver = webdriver.Chrome()\n",
    "\n",
    "try:\n",
    "    # 隱性等待 5 秒，若五秒後沒抓到選擇器內容則顯示 Not found\n",
    "    # 若在規定時間內網頁加載完成，或是能夠取得指定的元素（透過 find_element*） ，則執行下一步，否則一直等到時間截止，然後拋出 Exception\n",
    "    driver.implicitly_wait(5)\n",
    "    driver.get('https://www.104.com.tw/jobs/index/')\n",
    "    # 取得元素\n",
    "    element = driver.find_element(\n",
    "        By.CSS_SELECTOR,\n",
    "        'a.d-none.d-md-flex'\n",
    "    )\n",
    "    # 顯示超連結\n",
    "    print(element.get_attribute('href'))\n",
    "except NoSuchElementException:\n",
    "    print('Not Found')\n",
    "finally:\n",
    "    driver.quit()"
   ]
  },
  {
   "cell_type": "code",
   "execution_count": null,
   "id": "90c91556-169f-454b-8e2d-1d8eaa563ddb",
   "metadata": {},
   "outputs": [],
   "source": []
  }
 ],
 "metadata": {
  "kernelspec": {
   "display_name": "Python3@da",
   "language": "python",
   "name": "da"
  },
  "language_info": {
   "codemirror_mode": {
    "name": "ipython",
    "version": 3
   },
   "file_extension": ".py",
   "mimetype": "text/x-python",
   "name": "python",
   "nbconvert_exporter": "python",
   "pygments_lexer": "ipython3",
   "version": "3.10.14"
  }
 },
 "nbformat": 4,
 "nbformat_minor": 5
}
