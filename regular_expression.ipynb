{
 "cells": [
  {
   "cell_type": "code",
   "execution_count": 7,
   "id": "884f784e-5806-4f73-9934-c1bc2b32628c",
   "metadata": {},
   "outputs": [],
   "source": [
    "import re # 匯入Regular Expression套件"
   ]
  },
  {
   "cell_type": "code",
   "execution_count": 11,
   "id": "42de24aa-4978-41bb-acc5-1d1cad9d8212",
   "metadata": {},
   "outputs": [
    {
     "name": "stdout",
     "output_type": "stream",
     "text": [
      "re.Match物件: <re.Match object; span=(0, 10), match='A123456789'>\n",
      "比對到的字串: A123456789\n",
      "第一組捕獲組（Capturing Group）所捕獲: 1\n",
      "第二組捕獲組（Capturing Group）所捕獲: 9\n",
      "比對到的字串: A123456789\n",
      "第一組捕獲組（Capturing Group）所捕獲: 1\n",
      "第二組捕獲組（Capturing Group）所捕獲: 9\n"
     ]
    }
   ],
   "source": [
    "# re.search\n",
    "'''\n",
    "re.search 搜尋整個字串，但只會找出「第一組」符合條件的\n",
    "re.match[0]是 regex所代表的整個完整比對的字串，\n",
    "match[1]是第一組()中的內容，\n",
    "match[2]是第二組()中的內容...\n",
    "'''\n",
    "regex01 = r'[A-Za-z]([12])\\d{7}(\\d)' # 正規表達式\n",
    "string01 = \"A123456789, S299888777\" # 資料字串\n",
    "match01 = re.search(regex01,string01)\n",
    "print('re.Match物件:',match01)\n",
    "print('比對到的字串:',match01[0])\n",
    "print('第一組捕獲組（Capturing Group）所捕獲:',match01[1])\n",
    "print('第二組捕獲組（Capturing Group）所捕獲:',match01[2])\n",
    "print('比對到的字串:',match01.group(0))\n",
    "print('第一組捕獲組（Capturing Group）所捕獲:',match01.group(1))\n",
    "print('第二組捕獲組（Capturing Group）所捕獲:',match01.group(2))"
   ]
  },
  {
   "cell_type": "code",
   "execution_count": 17,
   "id": "73818661-fb4d-45c8-ae50-0775b571cb3e",
   "metadata": {},
   "outputs": [
    {
     "name": "stdout",
     "output_type": "stream",
     "text": [
      "Whole List (listMatch02) = ['0911111111', '0922222222', '0933333333']\n",
      "listMatch02(0) = 0911111111\n",
      "listMatch02(2) = 0933333333\n"
     ]
    }
   ],
   "source": [
    "# re.findall\n",
    "'''\n",
    "re.findall 搜尋整個字串，找出所有配對到的字串（即是global的概念）\n",
    "回傳一個 list\n",
    "'''\n",
    "regex02 = r'09[\\d]{8}'\n",
    "string02 = \"0911111111, 0922222222, 0933333333\"\n",
    "listMatch02 = re.findall(regex02, string02)\n",
    "print('Whole List (listMatch02) =',listMatch02)\n",
    "print('listMatch02(0) =',listMatch02[0])\n",
    "print('listMatch02(2) =',listMatch02[2])"
   ]
  },
  {
   "cell_type": "code",
   "execution_count": 24,
   "id": "39eabaa0-b6b7-4252-9b24-22c2a3162a1e",
   "metadata": {},
   "outputs": [
    {
     "name": "stdout",
     "output_type": "stream",
     "text": [
      "<callable_iterator object at 0x7fc1349b39d0>\n",
      "Match object = <re.Match object; span=(0, 10), match='0911111111'>\n",
      "Match object[x] = 0911111111\n",
      "Match object = <re.Match object; span=(12, 22), match='0922222222'>\n",
      "Match object[x] = 0922222222\n",
      "Match object = <re.Match object; span=(24, 34), match='0933333333'>\n",
      "Match object[x] = 0933333333\n"
     ]
    }
   ],
   "source": [
    "# re.finditer\n",
    "'''\n",
    "re.finditer 將所有配對到的字串以迭代的方式呈現，每一組都是re.Match物件\n",
    "若沒有配對到，則回傳 None (Python的null)\n",
    "'''\n",
    "regex03 = r'09[\\d]{8}'\n",
    "string03 = \"0911111111, 0922222222, 0933333333\"\n",
    "iterableMatch03 = re.finditer(regex03, string03)\n",
    "print(iterableMatch03)\n",
    "if iterableMatch03 != None:\n",
    "    for x in iterableMatch03:\n",
    "        print('Match object =',x)\n",
    "        print('Match object[x] =',x[0])"
   ]
  },
  {
   "cell_type": "code",
   "execution_count": 37,
   "id": "45c725db-03b1-43cb-a139-0d749c8fbceb",
   "metadata": {},
   "outputs": [
    {
     "name": "stdout",
     "output_type": "stream",
     "text": [
      "Match object = <re.Match object; span=(0, 10), match='2022/06/30'>\n",
      "match04[0] = 2022/06/30\n",
      "match04[1] = 30\n"
     ]
    }
   ],
   "source": [
    "# re.match\n",
    "'''\n",
    "match 從字串的「開頭」開始比對，\n",
    "re.match 與 re.search 的差別在於若match比對不到，則回傳 None\n",
    "'''\n",
    "regex04 = r'2[0-9]{3}\\/[0-1]?[0-9]{1}\\/([0-3]?[0-9])'\n",
    "string04 = \"2022/06/30 ,2002/08/27\"\n",
    "match04 = re.match(regex04,string04)\n",
    "print('Match object =', match04)\n",
    "print('match04[0] =', match04[0])\n",
    "print('match04[1] =', match04[1])"
   ]
  },
  {
   "cell_type": "code",
   "execution_count": 41,
   "id": "ff00ec9d-905a-453b-aeff-08003e636865",
   "metadata": {},
   "outputs": [
    {
     "name": "stdout",
     "output_type": "stream",
     "text": [
      "['One', 'Two', 'Three', 'Four', '']\n",
      "One\n",
      "Two\n",
      "Three\n",
      "Four\n",
      "\n"
     ]
    }
   ],
   "source": [
    "# re.split\n",
    "'''\n",
    "re.split 類似 string.split('separator')，\n",
    "只是用正規表達式來作為 separator，\n",
    "回傳 list\n",
    "'''\n",
    "regex06 = r'\\d'\n",
    "string06 = \"One1Two2Three3Four4\"\n",
    "listMatch06 = re.split(regex06, string06)\n",
    "print(listMatch06)\n",
    "for x in listMatch06:\n",
    "    print(x)"
   ]
  },
  {
   "cell_type": "code",
   "execution_count": 42,
   "id": "3610fd0a-ccfd-4429-8d6c-5549e7be13de",
   "metadata": {},
   "outputs": [
    {
     "name": "stdout",
     "output_type": "stream",
     "text": [
      "['1', '2', '3', '4', '5', '6', '7']\n"
     ]
    }
   ],
   "source": [
    "# string.split補充\n",
    "string = '1.2.3.4.5.6.7'\n",
    "x = string.split('.')\n",
    "print(x)"
   ]
  },
  {
   "cell_type": "code",
   "execution_count": 44,
   "id": "d0b099e3-52e2-4b28-be37-7578b4bb0f94",
   "metadata": {},
   "outputs": [
    {
     "name": "stdout",
     "output_type": "stream",
     "text": [
      "5201314\n"
     ]
    }
   ],
   "source": [
    "# re.sub\n",
    "'''\n",
    "說明\n",
    "re.sub(regex, replace_string, test_string)\n",
    "將 regex 所代表的文字，改成 replace_string，文字來源是 test_string\n",
    "'''\n",
    "regex07 = r\"\\D\"\n",
    "string07 = \"5-20 #1314\"\n",
    "strResult = re.sub(regex07, \"\", string07) # 將\\D（任何非數字）替換為''（空字串）\n",
    "print(int(strResult))"
   ]
  },
  {
   "cell_type": "markdown",
   "id": "31c1a7e0-246e-4da1-aec1-41a2e4245747",
   "metadata": {},
   "source": [
    "---\n",
    "# Look Around 環視\n",
    "--> 正向環視（Lookahead）、反向環視（Lookbehind）"
   ]
  },
  {
   "cell_type": "code",
   "execution_count": 46,
   "id": "ce270ca1-accc-4234-88bb-64f636e760ca",
   "metadata": {},
   "outputs": [
    {
     "name": "stdout",
     "output_type": "stream",
     "text": [
      "一天一蘋果醫生遠離我。An apple a day keeps the doctor away.\n"
     ]
    }
   ],
   "source": [
    "# 環視 (例如去除中文字旁邊的空白)\n",
    "# \\s任何空白字元\n",
    "regex08 = r\"\\s(?![a-zA-Z])\" # 任何空白字元右邊不能出現大小寫英文字幕，也可以寫成 r\"(?<![a-zA-Z])\\s\"任何空白字元元的左側不能出現大小寫英文字母\n",
    "string08 = \"一 天 一 蘋 果 醫 生 遠 離 我。An apple a day keeps the doctor away.\"\n",
    "strResult = re.sub(regex08, '', string08) # 去除regex08，替換成''，來源是string08\n",
    "print(strResult)"
   ]
  },
  {
   "cell_type": "code",
   "execution_count": 56,
   "id": "2ece8dd1-ae32-481b-925d-2d33bf55aff8",
   "metadata": {},
   "outputs": [
    {
     "name": "stdout",
     "output_type": "stream",
     "text": [
      "123,456,789,000\n"
     ]
    }
   ],
   "source": [
    "# 環視 (加入千分位)\n",
    "regex09 = r'(?<=\\d)(?=(\\d{3})+\\b)' # ''的右邊是「多個」三個\\d數字跟一個\\b邊界，左邊至少要有一個數字\n",
    "string09 = '123456789000'\n",
    "strResult = re.sub(regex09, ',', string09)\n",
    "print(strResult)"
   ]
  },
  {
   "cell_type": "markdown",
   "id": "12aee3a1-67c7-4046-9f8c-6f6ef8929ff6",
   "metadata": {},
   "source": [
    "---\n",
    "# 具名群組"
   ]
  },
  {
   "cell_type": "code",
   "execution_count": 60,
   "id": "6e766e14-5608-4ae4-832b-60fb3de1461c",
   "metadata": {},
   "outputs": [
    {
     "name": "stdout",
     "output_type": "stream",
     "text": [
      "<re.Match object; span=(0, 10), match='A100000001'>\n",
      "A100000001\n",
      "A100000001\n",
      "1\n",
      "1\n",
      "1\n",
      "1\n"
     ]
    }
   ],
   "source": [
    "'''\n",
    "補充:\n",
    "除了 .group(n) 以外，\n",
    "還可以用 key 來代替 n。\n",
    "'''\n",
    "# 身分證字號\n",
    "regex08 = r'[A-Za-z](?P<sex>[12])\\d{8}'\n",
    "string08 = \"A100000001\"\n",
    "match08 = re.search(regex08, string08)\n",
    "\n",
    "# 完整配對的文字\n",
    "print(match08)\n",
    "print(match08[0])\n",
    "print(match08.group(0))\n",
    "print(match08.group(1))\n",
    "\n",
    "# 具名(類似key)所代表的值，也可以用索引代號來取得\n",
    "print(match08.group('sex'))\n",
    "print(match08['sex'])\n",
    "print(match08[1])"
   ]
  },
  {
   "cell_type": "code",
   "execution_count": null,
   "id": "241c4f98-bf9c-4505-b8e8-b6e706d243d1",
   "metadata": {},
   "outputs": [],
   "source": []
  }
 ],
 "metadata": {
  "kernelspec": {
   "display_name": "Python3@da",
   "language": "python",
   "name": "da"
  },
  "language_info": {
   "codemirror_mode": {
    "name": "ipython",
    "version": 3
   },
   "file_extension": ".py",
   "mimetype": "text/x-python",
   "name": "python",
   "nbconvert_exporter": "python",
   "pygments_lexer": "ipython3",
   "version": "3.10.14"
  }
 },
 "nbformat": 4,
 "nbformat_minor": 5
}
