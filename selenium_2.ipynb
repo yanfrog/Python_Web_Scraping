{
 "cells": [
  {
   "cell_type": "code",
   "execution_count": 41,
   "id": "eda59329-4503-470f-899e-3b7bebe315d0",
   "metadata": {},
   "outputs": [],
   "source": [
    "# 操作 browser 的 API\n",
    "from selenium.webdriver.chrome.service import Service\n",
    "from selenium import webdriver\n",
    "\n",
    "# 處理逾時例外的工具\n",
    "from selenium.common.exceptions import TimeoutException\n",
    "\n",
    "# 面對動態網頁，等待某個元素出現的工具，通常與 exptected_conditions 搭配\n",
    "from selenium.webdriver.support.ui import WebDriverWait\n",
    "\n",
    "# 搭配 WebDriverWait 使用，對元素狀態的一種期待條件，若條件發生，則等待結束，往下一行執行\n",
    "from selenium.webdriver.support import expected_conditions as EC\n",
    "\n",
    "# 期待元素出現要透過什麼方式指定，通常與 EC、WebDriverWait 一起使用\n",
    "from selenium.webdriver.common.by import By\n",
    "\n",
    "# 強制等待 (執行期間休息一下)\n",
    "from time import sleep\n",
    "\n",
    "'''\n",
    "selenium 啓動 Chrome 的進階配置參數\n",
    "參考網址：https://stackoverflow.max-everyday.com/2019/12/selenium-chrome-options/\n",
    "'''\n",
    "# 啟動瀏覽器工具的選項\n",
    "my_options = webdriver.ChromeOptions() # 使用 Chrome\n",
    "# my_options.add_argument(\"--headless\")                #不開啟實體瀏覽器背景執行\n",
    "my_options.add_argument(\"--start-maximized\")         #最大化視窗\n",
    "my_options.add_argument(\"--incognito\")               #開啟無痕模式\n",
    "my_options.add_argument(\"--disable-popup-blocking\") #禁用彈出攔截\n",
    "my_options.add_argument(\"--disable-notifications\")  #取消 chrome 推播通知\n",
    "my_options.add_argument(\"--lang=zh-TW\")  #設定為正體中文\n",
    "\n",
    "\n",
    "# 使用 Chrome 的 WebDriver\n",
    "my_service = Service(executable_path=\"./chromedriver\")\n",
    "driver = webdriver.Chrome(\n",
    "    options = my_options,\n",
    "    service = my_service\n",
    ")"
   ]
  },
  {
   "cell_type": "markdown",
   "id": "87c4f545-9623-4158-be03-2636c84f87fd",
   "metadata": {},
   "source": [
    "# 在Chrome中執行自訂的JavaScript程式"
   ]
  },
  {
   "cell_type": "code",
   "execution_count": 42,
   "id": "61257151-f1e7-4faa-8e10-58ddf04d6095",
   "metadata": {},
   "outputs": [],
   "source": [
    "# 開啟中文譯音轉換系統\n",
    "driver.get('http://crptransfer.moe.gov.tw/')\n",
    "# 在網頁執行 JavaScript 語法，用以操作網頁\n",
    "# 使用 .alert() 或 window.alert() 彈出 alert 視窗 (在 chrome 裡面執行 javascript 語法)\n",
    "driver.execute_script(\"window.alert('🦐');\")\n",
    "# 等待 5 秒\n",
    "sleep(5)\n",
    "# 點選彈出裡面的確定按鈕\n",
    "driver.switch_to.alert.accept()"
   ]
  },
  {
   "cell_type": "markdown",
   "id": "3e949864-2055-4a34-bf77-9a3f4625d881",
   "metadata": {},
   "source": [
    "# 輸入文字並送出表單"
   ]
  },
  {
   "cell_type": "code",
   "execution_count": 34,
   "id": "cb4a89c8-6b3d-45f0-ad77-22fb4c24126f",
   "metadata": {},
   "outputs": [
    {
     "name": "stdout",
     "output_type": "stream",
     "text": [
      "ㄔ。ㄇㄟˋ。ㄨㄤˇ。ㄌㄧㄤˇ\n",
      "ㄔ。ㄇㄟˋ。ㄨㄤˇ。ㄌㄧㄤˇ\n"
     ]
    }
   ],
   "source": [
    "# 使用 .find_element() 尋找網頁中的元素\n",
    "# 使用 By.xxx 作為元素定位策略\n",
    "inputElement = driver.find_element(\n",
    "    By.CSS_SELECTOR, # 透過 CSS 選擇器選擇\n",
    "    'input#SN'# input 物件，id 為 SN 的元素 -> ID選擇器\n",
    "    # 或使用 'input[name = SN]' 屬性選擇器\n",
    ") \n",
    "\n",
    "# 使用 send_keys() 在搜尋框中輸入文字\n",
    "inputElement.send_keys(\"魑魅魍魎\")\n",
    "\n",
    "# 等待 1 秒\n",
    "sleep(1)\n",
    "\n",
    "# 使用 .submit() 送出搜尋\n",
    "inputElement.submit()\n",
    "\n",
    "# 搜尋結果的 CSS Selector\n",
    "cssSelector = \"body > table > tbody > tr:nth-child(1) > td > main > article > div > table > tbody > tr:nth-child(2) > td\"\n",
    "\n",
    "try:\n",
    "    # 等待網頁搜尋結果\n",
    "    WebDriverWait(driver, 10).until( # 等待 10 秒，直到\n",
    "        EC.presence_of_element_located( # 直到出現\n",
    "            (By.CSS_SELECTOR, cssSelector) # 出現選擇器內容\n",
    "        )\n",
    "    )\n",
    "    # 偵測到選擇器中選擇的內容後\n",
    "    \n",
    "    # 取得選擇器中選擇的內容\n",
    "    element = 0\n",
    "    element = driver.find_element(By.CSS_SELECTOR, cssSelector)\n",
    "    \n",
    "    # 輸出想要爬取的文字\n",
    "    print(element.text)\n",
    "    # 不可使用 print(element.get_text) 此用法為 BeautifulSoup 物件的用法\n",
    "    print(element.get_attribute('innerText')) # 另一種寫法\n",
    "    \n",
    "    # 睡個幾秒，避免被判定為爬蟲\n",
    "    sleep(3)\n",
    "    \n",
    "except TimeoutException: # 等待逾時\n",
    "    print('Time Out')"
   ]
  },
  {
   "cell_type": "markdown",
   "id": "282bf540-84e7-46d7-9686-0c9f91ea523b",
   "metadata": {},
   "source": [
    "# 輸入文字，並按下送出鈕"
   ]
  },
  {
   "cell_type": "code",
   "execution_count": 46,
   "id": "c73a3d34-8887-4a41-9790-7ca8832f0311",
   "metadata": {},
   "outputs": [],
   "source": [
    "driver.get('https://www.104.com.tw/jobs/index/')\n",
    "# 找尋 104 的搜尋匡\n",
    "inputElement = driver.find_element(By.CSS_SELECTOR,'input[data-gtm-index = \"搜尋欄位-搜尋點擊\"]') # 屬性選擇器\n",
    "# 在搜尋框中輸入文字\n",
    "inputElement.send_keys('python')\n",
    "# 暫停幾秒\n",
    "sleep(1)\n",
    "# 按鈕選擇器\n",
    "cssSelectorbtn = 'button[data-gtm-index=\"搜尋欄位-搜尋點擊\"][type=\"submit\"]'\n",
    "# 進行點選，等待選擇器內容出現在網頁中\n",
    "try:\n",
    "    WebDriverWait(driver, 10).until(\n",
    "        EC.presence_of_element_located(\n",
    "            (By.CSS_SELECTOR,cssSelectorbtn)\n",
    "        )\n",
    "    )\n",
    "    # 取得按鈕元素\n",
    "    btn = driver.find_element(By.CSS_SELECTOR, cssSelectorbtn)\n",
    "    # 按下按鈕\n",
    "    btn.click()\n",
    "except TimeoutException:\n",
    "    print('Time out')"
   ]
  },
  {
   "cell_type": "markdown",
   "id": "988db224-316d-4f2c-97aa-0a77179088e0",
   "metadata": {},
   "source": [
    "# 刷新瀏覽器"
   ]
  },
  {
   "cell_type": "code",
   "execution_count": 47,
   "id": "6be89a1d-c980-4a61-b2af-8f9b67be4ec6",
   "metadata": {},
   "outputs": [],
   "source": [
    "driver.get('https://reurl.cc/jR725D')\n",
    "sleep(3)\n",
    "# 刷新頁面\n",
    "driver.refresh()\n",
    "sleep(3)\n",
    "# 刷新頁面\n",
    "driver.refresh()\n",
    "sleep(3)\n",
    "driver.quit()"
   ]
  }
 ],
 "metadata": {
  "kernelspec": {
   "display_name": "Python3@da",
   "language": "python",
   "name": "da"
  },
  "language_info": {
   "codemirror_mode": {
    "name": "ipython",
    "version": 3
   },
   "file_extension": ".py",
   "mimetype": "text/x-python",
   "name": "python",
   "nbconvert_exporter": "python",
   "pygments_lexer": "ipython3",
   "version": "3.10.14"
  }
 },
 "nbformat": 4,
 "nbformat_minor": 5
}
