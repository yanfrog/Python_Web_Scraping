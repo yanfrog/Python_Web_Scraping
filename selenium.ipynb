{
 "cells": [
  {
   "cell_type": "code",
   "execution_count": 67,
   "id": "5cd2750d-81f3-46ff-be67-9a60e9e7f5ba",
   "metadata": {},
   "outputs": [],
   "source": [
    "'''\n",
    "參考網頁:\n",
    "下載 Chrome Web Driver\n",
    "https://chromedriver.chromium.org/downloads\n",
    "'''\n",
    "# 操作 browser 的 API\n",
    "from selenium.webdriver.chrome.service import Service\n",
    "from selenium import webdriver\n",
    "from bs4 import BeautifulSoup as bs\n",
    "from time import sleep"
   ]
  },
  {
   "cell_type": "code",
   "execution_count": 54,
   "id": "4b7e2eb2-53ac-4ec6-b15a-11a582a2d696",
   "metadata": {},
   "outputs": [
    {
     "name": "stdout",
     "output_type": "stream",
     "text": [
      "104人力銀行My104找公司履歷診療室學習精靈職場力BeAGiver高三學習歷程更多獵才高年級公司評論104觀點手機服務全部 》年薪百萬科技業！現場面談→     看過我的公司   請先登入會員         通知我的公司   請先登入會員         配對工作   請先登入會員    帳號     My104會員註冊 常見問題 意見回饋      註冊 登入          \n"
     ]
    }
   ],
   "source": [
    "# 使用 Chrome 的 WebDriver\n",
    "my_service = Service(executable_path = \"./chromedriver\") # 可設定其他參數如 Proxy 等\n",
    "driver = webdriver.Chrome(service = my_service) # 用以控制瀏覽器的 driver 物件\n",
    "# driver = webdrive.Chrome() 也可以直接使用\n",
    "# 開啟 104人力行銀 首頁\n",
    "driver.get(\"https://www.104.com.tw/jobs/main/\")\n",
    "# 取得檢視原始碼的內容 (page_source 取得的 html，是動態的、使用者操作過後的結果)\n",
    "html = driver.page_source\n",
    "soup = bs(html,'lxml') # 指定 lxml 作為 parser\n",
    "# 取得元素\n",
    "div = soup.select_one('div#globalbar') # ID selector 不可以空格\n",
    "# 顯示內文\n",
    "print(div.get_text())\n",
    "# 休眠三秒\n",
    "sleep(3)\n",
    "# 結束 webdrive，關閉瀏覽器\n",
    "driver.quit()"
   ]
  },
  {
   "cell_type": "code",
   "execution_count": 84,
   "id": "295967e9-2e82-410a-a631-2e2250e8724e",
   "metadata": {},
   "outputs": [
    {
     "name": "stdout",
     "output_type": "stream",
     "text": [
      "420 Mbps\n"
     ]
    }
   ],
   "source": [
    "# 使用 Safari 的 WebDriver\n",
    "driver = webdriver.Safari()\n",
    "# 開啟 Fast.com 網路測速網頁\n",
    "driver.get('https://fast.com')\n",
    "'''\n",
    "# 等待測速\n",
    "sleep(15)\n",
    "'''\n",
    "# 取得網頁原始碼\n",
    "html = driver.page_source\n",
    "# 指定 lxml 作為 parser 取得 HTML\n",
    "soup = bs(html,'lxml')\n",
    "# 等待測速\n",
    "while( not len(soup.select('div.speed-results-container.succeeded')) > 0): # 若尚未出現.succeesed\n",
    "    html = driver.page_source\n",
    "    soup = bs(html,'lxml')\n",
    "# 取得網速\n",
    "speed = soup.select_one('div.speed-results-container.succeeded')\n",
    "unit = soup.select_one('div.speed-units-container.succeeded')\n",
    "# 顯示網速\n",
    "print(speed.get_text() + ' ' + unit.get_text())\n",
    "# 等待數秒\n",
    "sleep(1)\n",
    "# 關閉瀏覽器\n",
    "driver.quit()"
   ]
  },
  {
   "cell_type": "code",
   "execution_count": null,
   "id": "61394552-0e1e-4486-b3a3-2b48a6da1fd1",
   "metadata": {},
   "outputs": [],
   "source": []
  }
 ],
 "metadata": {
  "kernelspec": {
   "display_name": "Python3@da",
   "language": "python",
   "name": "da"
  },
  "language_info": {
   "codemirror_mode": {
    "name": "ipython",
    "version": 3
   },
   "file_extension": ".py",
   "mimetype": "text/x-python",
   "name": "python",
   "nbconvert_exporter": "python",
   "pygments_lexer": "ipython3",
   "version": "3.10.14"
  }
 },
 "nbformat": 4,
 "nbformat_minor": 5
}
